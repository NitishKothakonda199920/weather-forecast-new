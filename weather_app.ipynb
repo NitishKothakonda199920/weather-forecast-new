{
 "cells": [
  {
   "cell_type": "code",
   "execution_count": 1,
   "id": "f05843b4",
   "metadata": {},
   "outputs": [],
   "source": [
    "import requests\n"
   ]
  },
  {
   "cell_type": "code",
   "execution_count": 4,
   "id": "9fc722af",
   "metadata": {},
   "outputs": [
    {
     "name": "stdout",
     "output_type": "stream",
     "text": [
      "enter city name:dallas\n",
      "Weather in dallas:\n",
      "Temperature: 14.59°C\n",
      "Condition: Overcast clouds\n",
      "Humidity: 54%\n",
      "Wind Speed: 1.79 m/s\n"
     ]
    }
   ],
   "source": [
    "def get_weather(city):\n",
    "    api_key = \"f025766cf5e6ec985a3ddfdf9c257989\"\n",
    "    base_url = \"http://api.openweathermap.org/data/2.5/weather\"\n",
    "    params = {\"q\": city, \"appid\": api_key, \"units\": \"metric\"}\n",
    "    \n",
    "    try:\n",
    "        response = requests.get(base_url, params=params)\n",
    "        response.raise_for_status()\n",
    "        data = response.json()\n",
    "         # Extract weather details\n",
    "        temp = data['main']['temp']\n",
    "        weather = data['weather'][0]['description']\n",
    "        humidity = data['main']['humidity']\n",
    "        wind_speed = data['wind']['speed']\n",
    "        \n",
    "        print(f\"Weather in {city}:\")\n",
    "        print(f\"Temperature: {temp}°C\")\n",
    "        print(f\"Condition: {weather.capitalize()}\")\n",
    "        print(f\"Humidity: {humidity}%\")\n",
    "        print(f\"Wind Speed: {wind_speed} m/s\")\n",
    "    except requests.exceptions.requestexception as e:\n",
    "        print('error fetching data:',e)\n",
    "    except keyerror:\n",
    "        print('city not found,please check the city name.')\n",
    "\n",
    "if __name__=='__main__':\n",
    "    city=input('enter city name:')\n",
    "    get_weather(city)\n",
    "        "
   ]
  },
  {
   "cell_type": "code",
   "execution_count": null,
   "id": "d13188c3",
   "metadata": {},
   "outputs": [],
   "source": []
  }
 ],
 "metadata": {
  "kernelspec": {
   "display_name": "Python 3 (ipykernel)",
   "language": "python",
   "name": "python3"
  },
  "language_info": {
   "codemirror_mode": {
    "name": "ipython",
    "version": 3
   },
   "file_extension": ".py",
   "mimetype": "text/x-python",
   "name": "python",
   "nbconvert_exporter": "python",
   "pygments_lexer": "ipython3",
   "version": "3.9.13"
  }
 },
 "nbformat": 4,
 "nbformat_minor": 5
}
